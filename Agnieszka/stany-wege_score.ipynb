{
 "cells": [
  {
   "cell_type": "markdown",
   "metadata": {},
   "source": [
    "Import bibliotekii, wczytanie plików.\n",
    "Dodanie kolumny stanu."
   ]
  },
  {
   "cell_type": "code",
   "execution_count": 1,
   "metadata": {},
   "outputs": [],
   "source": [
    "import pandas as pd\n",
    "import numpy as np\n",
    "import matplotlib.pyplot as plt\n",
    "restaurants = pd.read_csv('restaurants.csv')\n",
    "menu = pd.read_csv('restaurant-menus.csv')\n",
    "merged = restaurants.merge(menu, how='left', left_on='id', right_on='restaurant_id' , sort=False, suffixes=('_rest', '_menu'))\n",
    "restaurants['state'] = [str(a).replace(str(b), '').strip()[-3:-1] for a, b in zip(restaurants['full_address'], restaurants['zip_code'])]\n",
    "restaurants.loc[restaurants['zip_code'].str.len() == 2, ['zip_code']] = '00000'\n",
    "restaurants.loc[restaurants['zip_code'].isin(['75070']), ['state']] = 'TX'\n",
    "restaurants.loc[restaurants['state'].isin([', ','an','U']),['state']] = 'PR'\n",
    "\n",
    "\n"
   ]
  },
  {
   "cell_type": "markdown",
   "metadata": {},
   "source": [
    "Import modułu do geolokalizacji (musiałam pobrać dodatkowo przez terminal, komenda jest w dokumentacji Anacondy).  \n",
    "\n",
    "Funkcja pobierająca dane o stanie na podstawie długości i szerokości geograficznej i przypisująca stan do kolumny \"state\"."
   ]
  },
  {
   "cell_type": "code",
   "execution_count": 2,
   "metadata": {},
   "outputs": [],
   "source": [
    "from geopy.geocoders import Nominatim\n",
    "geolocator = Nominatim(user_agent=\"geoapiExercises\")\n",
    "def state_func(row):\n",
    "    coord = f\"{row['lat']}, {row['lng']}\"\n",
    "    location = geolocator.reverse(coord, exactly_one=True)    \n",
    "    address = location.raw['address']\n",
    "    state = address.get('state','')\n",
    "    row['state'] = state\n",
    "    return row"
   ]
  },
  {
   "cell_type": "markdown",
   "metadata": {},
   "source": [
    "Zastosowanie funkcji na kopii dataframe'u. Aktualizacja dataframe o nowe dane.\n",
    "(proces trwa ok. 2 min)"
   ]
  },
  {
   "cell_type": "code",
   "execution_count": 4,
   "metadata": {},
   "outputs": [],
   "source": [
    "restaurants1 = restaurants[restaurants['state']==''].apply(state_func, axis=1)\n",
    "restaurants.update(restaurants1)"
   ]
  },
  {
   "cell_type": "markdown",
   "metadata": {},
   "source": [
    "Nowo dodane stany były w pełnej formie, dlatego zmieniam wszystkie skróty na pełne nazwy w celu ujednolicenia danych.\n",
    "Moim zdaniem tak się łatwiej pracuje."
   ]
  },
  {
   "cell_type": "code",
   "execution_count": 5,
   "metadata": {},
   "outputs": [],
   "source": [
    "restaurants.loc[restaurants['state']=='AL', 'state']='Alabama'\n",
    "restaurants.loc[restaurants['state']=='WY', 'state']='Wyoming'\n",
    "restaurants.loc[restaurants['state']=='WI', 'state']='Wisconsin'\n",
    "restaurants.loc[restaurants['state']=='MN', 'state']='Minnesota'\n",
    "restaurants.loc[restaurants['state']=='IL', 'state']='Illinois'\n",
    "restaurants.loc[restaurants['state']=='WV', 'state']='West Virginia'\n",
    "restaurants.loc[restaurants['state']=='OH', 'state']='Ohio'\n",
    "restaurants.loc[restaurants['state']=='WA', 'state']='Washington'\n",
    "restaurants.loc[restaurants['state']=='OR', 'state']='Oregon'\n",
    "restaurants.loc[restaurants['state']=='PR', 'state']='Puerto Rico'\n",
    "restaurants.loc[restaurants['state']=='ID', 'state']='Idaho'\n",
    "restaurants.loc[restaurants['state']=='VA', 'state']='Virginia'\n",
    "restaurants.loc[restaurants['state']=='DC', 'state']='District of Columbia'\n",
    "restaurants.loc[restaurants['state']=='MD', 'state']='Maryland'\n",
    "restaurants.loc[restaurants['state']=='TN', 'state']='Tennessee'\n",
    "restaurants.loc[restaurants['state']=='VT', 'state']='Vermont'\n",
    "restaurants.loc[restaurants['state']=='UT', 'state']='Utah'\n",
    "restaurants.loc[restaurants['state']=='TX', 'state']='Texas'\n",
    "restaurants.loc[restaurants['state']=='AM', 'state']='Puerto Rico'"
   ]
  },
  {
   "cell_type": "markdown",
   "metadata": {},
   "source": [
    "Śledztwo googlowe wykazało, ze są to same teksańskie restauracje."
   ]
  },
  {
   "cell_type": "code",
   "execution_count": 6,
   "metadata": {},
   "outputs": [],
   "source": [
    "restaurants.loc[restaurants['state']=='', 'state']='Texas'"
   ]
  },
  {
   "cell_type": "code",
   "execution_count": 7,
   "metadata": {},
   "outputs": [
    {
     "data": {
      "text/plain": [
       "array(['Alabama', 'Wyoming', 'Wisconsin', 'Minnesota', 'Illinois',\n",
       "       'West Virginia', 'Ohio', 'Washington', 'Oregon', 'Puerto Rico',\n",
       "       'Idaho', 'Virginia', 'District of Columbia', 'Maryland',\n",
       "       'Tennessee', 'Vermont', 'Utah', 'Texas'], dtype=object)"
      ]
     },
     "execution_count": 7,
     "metadata": {},
     "output_type": "execute_result"
    }
   ],
   "source": [
    "restaurants['state'].unique()"
   ]
  },
  {
   "cell_type": "code",
   "execution_count": 8,
   "metadata": {},
   "outputs": [],
   "source": [
    "#Usunięcie NaN \n",
    "veg = restaurants[restaurants['category'].notna()]"
   ]
  },
  {
   "cell_type": "code",
   "execution_count": 9,
   "metadata": {},
   "outputs": [],
   "source": [
    "vege = veg[veg['category'].str.contains('Veg')]"
   ]
  },
  {
   "cell_type": "markdown",
   "metadata": {},
   "source": [
    "Restauracje wegańskie i wegetariańskie"
   ]
  },
  {
   "cell_type": "code",
   "execution_count": 10,
   "metadata": {},
   "outputs": [
    {
     "data": {
      "text/html": [
       "<div>\n",
       "<style scoped>\n",
       "    .dataframe tbody tr th:only-of-type {\n",
       "        vertical-align: middle;\n",
       "    }\n",
       "\n",
       "    .dataframe tbody tr th {\n",
       "        vertical-align: top;\n",
       "    }\n",
       "\n",
       "    .dataframe thead th {\n",
       "        text-align: right;\n",
       "    }\n",
       "</style>\n",
       "<table border=\"1\" class=\"dataframe\">\n",
       "  <thead>\n",
       "    <tr style=\"text-align: right;\">\n",
       "      <th></th>\n",
       "      <th>id</th>\n",
       "      <th>position</th>\n",
       "      <th>name</th>\n",
       "      <th>score</th>\n",
       "      <th>ratings</th>\n",
       "      <th>category</th>\n",
       "      <th>price_range</th>\n",
       "      <th>full_address</th>\n",
       "      <th>zip_code</th>\n",
       "      <th>lat</th>\n",
       "      <th>lng</th>\n",
       "      <th>state</th>\n",
       "    </tr>\n",
       "  </thead>\n",
       "  <tbody>\n",
       "    <tr>\n",
       "      <th>7</th>\n",
       "      <td>8.0</td>\n",
       "      <td>26.0</td>\n",
       "      <td>Little India</td>\n",
       "      <td>NaN</td>\n",
       "      <td>NaN</td>\n",
       "      <td>Vegetarian, Asian, Asian Fusion, Chinese, Indi...</td>\n",
       "      <td>$</td>\n",
       "      <td>2236 Highland Ave, Birmingham, AL, 35205</td>\n",
       "      <td>35205</td>\n",
       "      <td>33.502259</td>\n",
       "      <td>-86.790298</td>\n",
       "      <td>Alabama</td>\n",
       "    </tr>\n",
       "    <tr>\n",
       "      <th>9</th>\n",
       "      <td>10.0</td>\n",
       "      <td>51.0</td>\n",
       "      <td>Cajun Bistro Express</td>\n",
       "      <td>NaN</td>\n",
       "      <td>NaN</td>\n",
       "      <td>Desserts, Vegetarian, Coffee and Tea</td>\n",
       "      <td>$</td>\n",
       "      <td>1515 Pearson Ave SW, Birmingham, AL, 35211</td>\n",
       "      <td>35211</td>\n",
       "      <td>33.486840</td>\n",
       "      <td>-86.856300</td>\n",
       "      <td>Alabama</td>\n",
       "    </tr>\n",
       "    <tr>\n",
       "      <th>14</th>\n",
       "      <td>15.0</td>\n",
       "      <td>139.0</td>\n",
       "      <td>The Imperial Indian</td>\n",
       "      <td>NaN</td>\n",
       "      <td>NaN</td>\n",
       "      <td>Indian, Vegetarian, Pakistani, Chicken, Indian...</td>\n",
       "      <td>NaN</td>\n",
       "      <td>1024 20th Street South Unit 101, Birmingham, A...</td>\n",
       "      <td>35205</td>\n",
       "      <td>33.500900</td>\n",
       "      <td>-86.796900</td>\n",
       "      <td>Alabama</td>\n",
       "    </tr>\n",
       "    <tr>\n",
       "      <th>18</th>\n",
       "      <td>19.0</td>\n",
       "      <td>30.0</td>\n",
       "      <td>Falafel Cafe</td>\n",
       "      <td>4.9</td>\n",
       "      <td>48.0</td>\n",
       "      <td>Middle Eastern, Mediterranean, Vegetarian, Gre...</td>\n",
       "      <td>$</td>\n",
       "      <td>401 19th St S, Birmingham, AL, 35233</td>\n",
       "      <td>35233</td>\n",
       "      <td>33.508353</td>\n",
       "      <td>-86.803170</td>\n",
       "      <td>Alabama</td>\n",
       "    </tr>\n",
       "    <tr>\n",
       "      <th>37</th>\n",
       "      <td>38.0</td>\n",
       "      <td>61.0</td>\n",
       "      <td>CHOP N FRESH</td>\n",
       "      <td>4.8</td>\n",
       "      <td>39.0</td>\n",
       "      <td>Salads, Vegetarian, Bowls</td>\n",
       "      <td>$</td>\n",
       "      <td>291 Rele Street, Mountain Brook, AL, 35223</td>\n",
       "      <td>35223</td>\n",
       "      <td>33.486040</td>\n",
       "      <td>-86.773660</td>\n",
       "      <td>Alabama</td>\n",
       "    </tr>\n",
       "    <tr>\n",
       "      <th>...</th>\n",
       "      <td>...</td>\n",
       "      <td>...</td>\n",
       "      <td>...</td>\n",
       "      <td>...</td>\n",
       "      <td>...</td>\n",
       "      <td>...</td>\n",
       "      <td>...</td>\n",
       "      <td>...</td>\n",
       "      <td>...</td>\n",
       "      <td>...</td>\n",
       "      <td>...</td>\n",
       "      <td>...</td>\n",
       "    </tr>\n",
       "    <tr>\n",
       "      <th>40217</th>\n",
       "      <td>40218.0</td>\n",
       "      <td>61.0</td>\n",
       "      <td>Anthem</td>\n",
       "      <td>4.6</td>\n",
       "      <td>43.0</td>\n",
       "      <td>American, Salads, Vegetarian, Healthy, Vegan, ...</td>\n",
       "      <td>$$</td>\n",
       "      <td>91 Rainey Street ,STE 120, Austin, TX, 78701</td>\n",
       "      <td>78701</td>\n",
       "      <td>30.260303</td>\n",
       "      <td>-97.737669</td>\n",
       "      <td>Texas</td>\n",
       "    </tr>\n",
       "    <tr>\n",
       "      <th>40219</th>\n",
       "      <td>40220.0</td>\n",
       "      <td>59.0</td>\n",
       "      <td>Le Bleu (Research Blvd)</td>\n",
       "      <td>4.9</td>\n",
       "      <td>175.0</td>\n",
       "      <td>Vietnamese, Noodles, Healthy, Family Friendly,...</td>\n",
       "      <td>$</td>\n",
       "      <td>9070 Research blvd #303, Austin, TX, 78757</td>\n",
       "      <td>78757</td>\n",
       "      <td>30.372124</td>\n",
       "      <td>-97.727290</td>\n",
       "      <td>Texas</td>\n",
       "    </tr>\n",
       "    <tr>\n",
       "      <th>40221</th>\n",
       "      <td>40222.0</td>\n",
       "      <td>57.0</td>\n",
       "      <td>Clay Pit (Guadalupe St)</td>\n",
       "      <td>4.7</td>\n",
       "      <td>408.0</td>\n",
       "      <td>Comfort Food, Indian, Family Meals, Vegan, Veg...</td>\n",
       "      <td>$</td>\n",
       "      <td>1601 Guadalupe St, Austin, TX, 78701</td>\n",
       "      <td>78701</td>\n",
       "      <td>30.279008</td>\n",
       "      <td>-97.742405</td>\n",
       "      <td>Texas</td>\n",
       "    </tr>\n",
       "    <tr>\n",
       "      <th>40223</th>\n",
       "      <td>40224.0</td>\n",
       "      <td>53.0</td>\n",
       "      <td>Wholly Cow Burgers  (S Lamar)</td>\n",
       "      <td>4.6</td>\n",
       "      <td>245.0</td>\n",
       "      <td>American, Burgers, Breakfast and Brunch, Aller...</td>\n",
       "      <td>$</td>\n",
       "      <td>3010 S Lamar Blvd, Austin, TX, 78704</td>\n",
       "      <td>78704</td>\n",
       "      <td>30.242816</td>\n",
       "      <td>-97.783821</td>\n",
       "      <td>Texas</td>\n",
       "    </tr>\n",
       "    <tr>\n",
       "      <th>40225</th>\n",
       "      <td>40226.0</td>\n",
       "      <td>51.0</td>\n",
       "      <td>Austin's Habibi (5th St)</td>\n",
       "      <td>4.7</td>\n",
       "      <td>208.0</td>\n",
       "      <td>Mediterranean, Gluten Free Friendly, Allergy F...</td>\n",
       "      <td>$$</td>\n",
       "      <td>817 W 5th St, Austin, TX, 78703</td>\n",
       "      <td>78703</td>\n",
       "      <td>30.269580</td>\n",
       "      <td>-97.753110</td>\n",
       "      <td>Texas</td>\n",
       "    </tr>\n",
       "  </tbody>\n",
       "</table>\n",
       "<p>3043 rows × 12 columns</p>\n",
       "</div>"
      ],
      "text/plain": [
       "            id  position                           name  score  ratings  \\\n",
       "7          8.0      26.0                   Little India    NaN      NaN   \n",
       "9         10.0      51.0           Cajun Bistro Express    NaN      NaN   \n",
       "14        15.0     139.0            The Imperial Indian    NaN      NaN   \n",
       "18        19.0      30.0                   Falafel Cafe    4.9     48.0   \n",
       "37        38.0      61.0                   CHOP N FRESH    4.8     39.0   \n",
       "...        ...       ...                            ...    ...      ...   \n",
       "40217  40218.0      61.0                         Anthem    4.6     43.0   \n",
       "40219  40220.0      59.0        Le Bleu (Research Blvd)    4.9    175.0   \n",
       "40221  40222.0      57.0        Clay Pit (Guadalupe St)    4.7    408.0   \n",
       "40223  40224.0      53.0  Wholly Cow Burgers  (S Lamar)    4.6    245.0   \n",
       "40225  40226.0      51.0       Austin's Habibi (5th St)    4.7    208.0   \n",
       "\n",
       "                                                category price_range  \\\n",
       "7      Vegetarian, Asian, Asian Fusion, Chinese, Indi...           $   \n",
       "9                   Desserts, Vegetarian, Coffee and Tea           $   \n",
       "14     Indian, Vegetarian, Pakistani, Chicken, Indian...         NaN   \n",
       "18     Middle Eastern, Mediterranean, Vegetarian, Gre...           $   \n",
       "37                             Salads, Vegetarian, Bowls           $   \n",
       "...                                                  ...         ...   \n",
       "40217  American, Salads, Vegetarian, Healthy, Vegan, ...          $$   \n",
       "40219  Vietnamese, Noodles, Healthy, Family Friendly,...           $   \n",
       "40221  Comfort Food, Indian, Family Meals, Vegan, Veg...           $   \n",
       "40223  American, Burgers, Breakfast and Brunch, Aller...           $   \n",
       "40225  Mediterranean, Gluten Free Friendly, Allergy F...          $$   \n",
       "\n",
       "                                            full_address zip_code        lat  \\\n",
       "7               2236 Highland Ave, Birmingham, AL, 35205    35205  33.502259   \n",
       "9             1515 Pearson Ave SW, Birmingham, AL, 35211    35211  33.486840   \n",
       "14     1024 20th Street South Unit 101, Birmingham, A...    35205  33.500900   \n",
       "18                  401 19th St S, Birmingham, AL, 35233    35233  33.508353   \n",
       "37            291 Rele Street, Mountain Brook, AL, 35223    35223  33.486040   \n",
       "...                                                  ...      ...        ...   \n",
       "40217       91 Rainey Street ,STE 120, Austin, TX, 78701    78701  30.260303   \n",
       "40219         9070 Research blvd #303, Austin, TX, 78757    78757  30.372124   \n",
       "40221               1601 Guadalupe St, Austin, TX, 78701    78701  30.279008   \n",
       "40223               3010 S Lamar Blvd, Austin, TX, 78704    78704  30.242816   \n",
       "40225                    817 W 5th St, Austin, TX, 78703    78703  30.269580   \n",
       "\n",
       "             lng    state  \n",
       "7     -86.790298  Alabama  \n",
       "9     -86.856300  Alabama  \n",
       "14    -86.796900  Alabama  \n",
       "18    -86.803170  Alabama  \n",
       "37    -86.773660  Alabama  \n",
       "...          ...      ...  \n",
       "40217 -97.737669    Texas  \n",
       "40219 -97.727290    Texas  \n",
       "40221 -97.742405    Texas  \n",
       "40223 -97.783821    Texas  \n",
       "40225 -97.753110    Texas  \n",
       "\n",
       "[3043 rows x 12 columns]"
      ]
     },
     "execution_count": 10,
     "metadata": {},
     "output_type": "execute_result"
    }
   ],
   "source": [
    "vege"
   ]
  },
  {
   "cell_type": "markdown",
   "metadata": {},
   "source": [
    "Wyodrębnionych zostało 3043 rekordów"
   ]
  },
  {
   "cell_type": "code",
   "execution_count": 11,
   "metadata": {},
   "outputs": [
    {
     "data": {
      "text/plain": [
       "id              3043\n",
       "position        3043\n",
       "name            3043\n",
       "score           1789\n",
       "ratings         1789\n",
       "category        3043\n",
       "price_range     2185\n",
       "full_address    3026\n",
       "zip_code        3026\n",
       "lat             3043\n",
       "lng             3043\n",
       "state           3043\n",
       "dtype: int64"
      ]
     },
     "execution_count": 11,
     "metadata": {},
     "output_type": "execute_result"
    }
   ],
   "source": [
    "vege.count()"
   ]
  },
  {
   "cell_type": "code",
   "execution_count": 12,
   "metadata": {},
   "outputs": [
    {
     "data": {
      "text/plain": [
       "array(['Alabama', 'Wyoming', 'Wisconsin', 'Illinois', 'West Virginia',\n",
       "       'Washington', 'Oregon', 'Idaho', 'Virginia',\n",
       "       'District of Columbia', 'Maryland', 'Tennessee', 'Vermont', 'Utah',\n",
       "       'Puerto Rico', 'Texas'], dtype=object)"
      ]
     },
     "execution_count": 12,
     "metadata": {},
     "output_type": "execute_result"
    }
   ],
   "source": [
    "vege['state'].unique()"
   ]
  },
  {
   "cell_type": "markdown",
   "metadata": {},
   "source": [
    "Suma restauracji, w których są dania z kategorii \"vege\" w poszczególnych stanach"
   ]
  },
  {
   "cell_type": "code",
   "execution_count": 13,
   "metadata": {},
   "outputs": [],
   "source": [
    "vegsum = pd.pivot_table(vege, index='state', values='id', aggfunc=len)"
   ]
  },
  {
   "cell_type": "code",
   "execution_count": 14,
   "metadata": {},
   "outputs": [],
   "source": [
    "vegsum = vegsum.rename(columns={'id': 'Total restaurants with veg'})"
   ]
  },
  {
   "cell_type": "code",
   "execution_count": 15,
   "metadata": {},
   "outputs": [],
   "source": [
    "vegsum.reset_index(inplace=True)"
   ]
  },
  {
   "cell_type": "code",
   "execution_count": 16,
   "metadata": {},
   "outputs": [
    {
     "data": {
      "text/html": [
       "<div>\n",
       "<style scoped>\n",
       "    .dataframe tbody tr th:only-of-type {\n",
       "        vertical-align: middle;\n",
       "    }\n",
       "\n",
       "    .dataframe tbody tr th {\n",
       "        vertical-align: top;\n",
       "    }\n",
       "\n",
       "    .dataframe thead th {\n",
       "        text-align: right;\n",
       "    }\n",
       "</style>\n",
       "<table border=\"1\" class=\"dataframe\">\n",
       "  <thead>\n",
       "    <tr style=\"text-align: right;\">\n",
       "      <th></th>\n",
       "      <th>state</th>\n",
       "      <th>Total restaurants with veg</th>\n",
       "    </tr>\n",
       "  </thead>\n",
       "  <tbody>\n",
       "    <tr>\n",
       "      <th>0</th>\n",
       "      <td>Alabama</td>\n",
       "      <td>69</td>\n",
       "    </tr>\n",
       "    <tr>\n",
       "      <th>1</th>\n",
       "      <td>District of Columbia</td>\n",
       "      <td>183</td>\n",
       "    </tr>\n",
       "    <tr>\n",
       "      <th>2</th>\n",
       "      <td>Idaho</td>\n",
       "      <td>1</td>\n",
       "    </tr>\n",
       "    <tr>\n",
       "      <th>3</th>\n",
       "      <td>Illinois</td>\n",
       "      <td>9</td>\n",
       "    </tr>\n",
       "    <tr>\n",
       "      <th>4</th>\n",
       "      <td>Maryland</td>\n",
       "      <td>111</td>\n",
       "    </tr>\n",
       "    <tr>\n",
       "      <th>5</th>\n",
       "      <td>Oregon</td>\n",
       "      <td>121</td>\n",
       "    </tr>\n",
       "    <tr>\n",
       "      <th>6</th>\n",
       "      <td>Puerto Rico</td>\n",
       "      <td>11</td>\n",
       "    </tr>\n",
       "    <tr>\n",
       "      <th>7</th>\n",
       "      <td>Tennessee</td>\n",
       "      <td>1</td>\n",
       "    </tr>\n",
       "    <tr>\n",
       "      <th>8</th>\n",
       "      <td>Texas</td>\n",
       "      <td>558</td>\n",
       "    </tr>\n",
       "    <tr>\n",
       "      <th>9</th>\n",
       "      <td>Utah</td>\n",
       "      <td>219</td>\n",
       "    </tr>\n",
       "    <tr>\n",
       "      <th>10</th>\n",
       "      <td>Vermont</td>\n",
       "      <td>13</td>\n",
       "    </tr>\n",
       "    <tr>\n",
       "      <th>11</th>\n",
       "      <td>Virginia</td>\n",
       "      <td>615</td>\n",
       "    </tr>\n",
       "    <tr>\n",
       "      <th>12</th>\n",
       "      <td>Washington</td>\n",
       "      <td>955</td>\n",
       "    </tr>\n",
       "    <tr>\n",
       "      <th>13</th>\n",
       "      <td>West Virginia</td>\n",
       "      <td>19</td>\n",
       "    </tr>\n",
       "    <tr>\n",
       "      <th>14</th>\n",
       "      <td>Wisconsin</td>\n",
       "      <td>149</td>\n",
       "    </tr>\n",
       "    <tr>\n",
       "      <th>15</th>\n",
       "      <td>Wyoming</td>\n",
       "      <td>9</td>\n",
       "    </tr>\n",
       "  </tbody>\n",
       "</table>\n",
       "</div>"
      ],
      "text/plain": [
       "                   state  Total restaurants with veg\n",
       "0                Alabama                          69\n",
       "1   District of Columbia                         183\n",
       "2                  Idaho                           1\n",
       "3               Illinois                           9\n",
       "4               Maryland                         111\n",
       "5                 Oregon                         121\n",
       "6            Puerto Rico                          11\n",
       "7              Tennessee                           1\n",
       "8                  Texas                         558\n",
       "9                   Utah                         219\n",
       "10               Vermont                          13\n",
       "11              Virginia                         615\n",
       "12            Washington                         955\n",
       "13         West Virginia                          19\n",
       "14             Wisconsin                         149\n",
       "15               Wyoming                           9"
      ]
     },
     "execution_count": 16,
     "metadata": {},
     "output_type": "execute_result"
    }
   ],
   "source": [
    "vegsum"
   ]
  },
  {
   "cell_type": "markdown",
   "metadata": {},
   "source": [
    "Ile restauracji jest ogólnie w poszczególnych stanach (punkt odniesienia)"
   ]
  },
  {
   "cell_type": "code",
   "execution_count": 17,
   "metadata": {},
   "outputs": [],
   "source": [
    "totalres = pd.pivot_table(restaurants, index='state', values='id', aggfunc=len)"
   ]
  },
  {
   "cell_type": "code",
   "execution_count": 18,
   "metadata": {},
   "outputs": [],
   "source": [
    "totalres = totalres.rename(columns={'id': 'Total restaurants'})"
   ]
  },
  {
   "cell_type": "code",
   "execution_count": 19,
   "metadata": {},
   "outputs": [
    {
     "data": {
      "text/html": [
       "<div>\n",
       "<style scoped>\n",
       "    .dataframe tbody tr th:only-of-type {\n",
       "        vertical-align: middle;\n",
       "    }\n",
       "\n",
       "    .dataframe tbody tr th {\n",
       "        vertical-align: top;\n",
       "    }\n",
       "\n",
       "    .dataframe thead th {\n",
       "        text-align: right;\n",
       "    }\n",
       "</style>\n",
       "<table border=\"1\" class=\"dataframe\">\n",
       "  <thead>\n",
       "    <tr style=\"text-align: right;\">\n",
       "      <th></th>\n",
       "      <th>Total restaurants</th>\n",
       "    </tr>\n",
       "    <tr>\n",
       "      <th>state</th>\n",
       "      <th></th>\n",
       "    </tr>\n",
       "  </thead>\n",
       "  <tbody>\n",
       "    <tr>\n",
       "      <th>Alabama</th>\n",
       "      <td>1114</td>\n",
       "    </tr>\n",
       "    <tr>\n",
       "      <th>District of Columbia</th>\n",
       "      <td>1517</td>\n",
       "    </tr>\n",
       "    <tr>\n",
       "      <th>Idaho</th>\n",
       "      <td>27</td>\n",
       "    </tr>\n",
       "    <tr>\n",
       "      <th>Illinois</th>\n",
       "      <td>204</td>\n",
       "    </tr>\n",
       "    <tr>\n",
       "      <th>Maryland</th>\n",
       "      <td>897</td>\n",
       "    </tr>\n",
       "    <tr>\n",
       "      <th>Minnesota</th>\n",
       "      <td>43</td>\n",
       "    </tr>\n",
       "    <tr>\n",
       "      <th>Ohio</th>\n",
       "      <td>15</td>\n",
       "    </tr>\n",
       "    <tr>\n",
       "      <th>Oregon</th>\n",
       "      <td>1031</td>\n",
       "    </tr>\n",
       "    <tr>\n",
       "      <th>Puerto Rico</th>\n",
       "      <td>220</td>\n",
       "    </tr>\n",
       "    <tr>\n",
       "      <th>Tennessee</th>\n",
       "      <td>42</td>\n",
       "    </tr>\n",
       "    <tr>\n",
       "      <th>Texas</th>\n",
       "      <td>7322</td>\n",
       "    </tr>\n",
       "    <tr>\n",
       "      <th>Utah</th>\n",
       "      <td>3100</td>\n",
       "    </tr>\n",
       "    <tr>\n",
       "      <th>Vermont</th>\n",
       "      <td>351</td>\n",
       "    </tr>\n",
       "    <tr>\n",
       "      <th>Virginia</th>\n",
       "      <td>9341</td>\n",
       "    </tr>\n",
       "    <tr>\n",
       "      <th>Washington</th>\n",
       "      <td>8967</td>\n",
       "    </tr>\n",
       "    <tr>\n",
       "      <th>West Virginia</th>\n",
       "      <td>1381</td>\n",
       "    </tr>\n",
       "    <tr>\n",
       "      <th>Wisconsin</th>\n",
       "      <td>4335</td>\n",
       "    </tr>\n",
       "    <tr>\n",
       "      <th>Wyoming</th>\n",
       "      <td>320</td>\n",
       "    </tr>\n",
       "  </tbody>\n",
       "</table>\n",
       "</div>"
      ],
      "text/plain": [
       "                      Total restaurants\n",
       "state                                  \n",
       "Alabama                            1114\n",
       "District of Columbia               1517\n",
       "Idaho                                27\n",
       "Illinois                            204\n",
       "Maryland                            897\n",
       "Minnesota                            43\n",
       "Ohio                                 15\n",
       "Oregon                             1031\n",
       "Puerto Rico                         220\n",
       "Tennessee                            42\n",
       "Texas                              7322\n",
       "Utah                               3100\n",
       "Vermont                             351\n",
       "Virginia                           9341\n",
       "Washington                         8967\n",
       "West Virginia                      1381\n",
       "Wisconsin                          4335\n",
       "Wyoming                             320"
      ]
     },
     "execution_count": 19,
     "metadata": {},
     "output_type": "execute_result"
    }
   ],
   "source": [
    "totalres"
   ]
  },
  {
   "cell_type": "code",
   "execution_count": 19,
   "metadata": {},
   "outputs": [],
   "source": [
    "sumresveg = totalres.merge(vegsum, how='outer', on = 'state')"
   ]
  },
  {
   "cell_type": "code",
   "execution_count": 20,
   "metadata": {},
   "outputs": [],
   "source": [
    "sumresveg = sumresveg.fillna(0)"
   ]
  },
  {
   "cell_type": "code",
   "execution_count": 21,
   "metadata": {},
   "outputs": [
    {
     "data": {
      "text/html": [
       "<div>\n",
       "<style scoped>\n",
       "    .dataframe tbody tr th:only-of-type {\n",
       "        vertical-align: middle;\n",
       "    }\n",
       "\n",
       "    .dataframe tbody tr th {\n",
       "        vertical-align: top;\n",
       "    }\n",
       "\n",
       "    .dataframe thead th {\n",
       "        text-align: right;\n",
       "    }\n",
       "</style>\n",
       "<table border=\"1\" class=\"dataframe\">\n",
       "  <thead>\n",
       "    <tr style=\"text-align: right;\">\n",
       "      <th></th>\n",
       "      <th>state</th>\n",
       "      <th>Total restaurants</th>\n",
       "      <th>Total restaurants with veg</th>\n",
       "    </tr>\n",
       "  </thead>\n",
       "  <tbody>\n",
       "    <tr>\n",
       "      <th>0</th>\n",
       "      <td>Alabama</td>\n",
       "      <td>1114</td>\n",
       "      <td>69.0</td>\n",
       "    </tr>\n",
       "    <tr>\n",
       "      <th>1</th>\n",
       "      <td>District of Columbia</td>\n",
       "      <td>1517</td>\n",
       "      <td>183.0</td>\n",
       "    </tr>\n",
       "    <tr>\n",
       "      <th>2</th>\n",
       "      <td>Idaho</td>\n",
       "      <td>27</td>\n",
       "      <td>1.0</td>\n",
       "    </tr>\n",
       "    <tr>\n",
       "      <th>3</th>\n",
       "      <td>Illinois</td>\n",
       "      <td>204</td>\n",
       "      <td>9.0</td>\n",
       "    </tr>\n",
       "    <tr>\n",
       "      <th>4</th>\n",
       "      <td>Maryland</td>\n",
       "      <td>897</td>\n",
       "      <td>111.0</td>\n",
       "    </tr>\n",
       "    <tr>\n",
       "      <th>5</th>\n",
       "      <td>Minnesota</td>\n",
       "      <td>43</td>\n",
       "      <td>0.0</td>\n",
       "    </tr>\n",
       "    <tr>\n",
       "      <th>6</th>\n",
       "      <td>Ohio</td>\n",
       "      <td>15</td>\n",
       "      <td>0.0</td>\n",
       "    </tr>\n",
       "    <tr>\n",
       "      <th>7</th>\n",
       "      <td>Oregon</td>\n",
       "      <td>1031</td>\n",
       "      <td>121.0</td>\n",
       "    </tr>\n",
       "    <tr>\n",
       "      <th>8</th>\n",
       "      <td>Puerto Rico</td>\n",
       "      <td>220</td>\n",
       "      <td>11.0</td>\n",
       "    </tr>\n",
       "    <tr>\n",
       "      <th>9</th>\n",
       "      <td>Tennessee</td>\n",
       "      <td>42</td>\n",
       "      <td>1.0</td>\n",
       "    </tr>\n",
       "    <tr>\n",
       "      <th>10</th>\n",
       "      <td>Texas</td>\n",
       "      <td>7322</td>\n",
       "      <td>558.0</td>\n",
       "    </tr>\n",
       "    <tr>\n",
       "      <th>11</th>\n",
       "      <td>Utah</td>\n",
       "      <td>3100</td>\n",
       "      <td>219.0</td>\n",
       "    </tr>\n",
       "    <tr>\n",
       "      <th>12</th>\n",
       "      <td>Vermont</td>\n",
       "      <td>351</td>\n",
       "      <td>13.0</td>\n",
       "    </tr>\n",
       "    <tr>\n",
       "      <th>13</th>\n",
       "      <td>Virginia</td>\n",
       "      <td>9341</td>\n",
       "      <td>615.0</td>\n",
       "    </tr>\n",
       "    <tr>\n",
       "      <th>14</th>\n",
       "      <td>Washington</td>\n",
       "      <td>8967</td>\n",
       "      <td>955.0</td>\n",
       "    </tr>\n",
       "    <tr>\n",
       "      <th>15</th>\n",
       "      <td>West Virginia</td>\n",
       "      <td>1381</td>\n",
       "      <td>19.0</td>\n",
       "    </tr>\n",
       "    <tr>\n",
       "      <th>16</th>\n",
       "      <td>Wisconsin</td>\n",
       "      <td>4335</td>\n",
       "      <td>149.0</td>\n",
       "    </tr>\n",
       "    <tr>\n",
       "      <th>17</th>\n",
       "      <td>Wyoming</td>\n",
       "      <td>320</td>\n",
       "      <td>9.0</td>\n",
       "    </tr>\n",
       "  </tbody>\n",
       "</table>\n",
       "</div>"
      ],
      "text/plain": [
       "                   state  Total restaurants  Total restaurants with veg\n",
       "0                Alabama               1114                        69.0\n",
       "1   District of Columbia               1517                       183.0\n",
       "2                  Idaho                 27                         1.0\n",
       "3               Illinois                204                         9.0\n",
       "4               Maryland                897                       111.0\n",
       "5              Minnesota                 43                         0.0\n",
       "6                   Ohio                 15                         0.0\n",
       "7                 Oregon               1031                       121.0\n",
       "8            Puerto Rico                220                        11.0\n",
       "9              Tennessee                 42                         1.0\n",
       "10                 Texas               7322                       558.0\n",
       "11                  Utah               3100                       219.0\n",
       "12               Vermont                351                        13.0\n",
       "13              Virginia               9341                       615.0\n",
       "14            Washington               8967                       955.0\n",
       "15         West Virginia               1381                        19.0\n",
       "16             Wisconsin               4335                       149.0\n",
       "17               Wyoming                320                         9.0"
      ]
     },
     "execution_count": 21,
     "metadata": {},
     "output_type": "execute_result"
    }
   ],
   "source": [
    "sumresveg"
   ]
  },
  {
   "cell_type": "markdown",
   "metadata": {},
   "source": [
    "Ile jest procentowo restauracji wege w poszczególnych stanach:"
   ]
  },
  {
   "cell_type": "code",
   "execution_count": 22,
   "metadata": {},
   "outputs": [
    {
     "data": {
      "text/html": [
       "<div>\n",
       "<style scoped>\n",
       "    .dataframe tbody tr th:only-of-type {\n",
       "        vertical-align: middle;\n",
       "    }\n",
       "\n",
       "    .dataframe tbody tr th {\n",
       "        vertical-align: top;\n",
       "    }\n",
       "\n",
       "    .dataframe thead th {\n",
       "        text-align: right;\n",
       "    }\n",
       "</style>\n",
       "<table border=\"1\" class=\"dataframe\">\n",
       "  <thead>\n",
       "    <tr style=\"text-align: right;\">\n",
       "      <th></th>\n",
       "      <th>state</th>\n",
       "      <th>Total restaurants</th>\n",
       "      <th>Total restaurants with veg</th>\n",
       "      <th>veg restaurants %</th>\n",
       "    </tr>\n",
       "  </thead>\n",
       "  <tbody>\n",
       "    <tr>\n",
       "      <th>0</th>\n",
       "      <td>Alabama</td>\n",
       "      <td>1114</td>\n",
       "      <td>69.0</td>\n",
       "      <td>6.19</td>\n",
       "    </tr>\n",
       "    <tr>\n",
       "      <th>1</th>\n",
       "      <td>District of Columbia</td>\n",
       "      <td>1517</td>\n",
       "      <td>183.0</td>\n",
       "      <td>12.06</td>\n",
       "    </tr>\n",
       "    <tr>\n",
       "      <th>2</th>\n",
       "      <td>Idaho</td>\n",
       "      <td>27</td>\n",
       "      <td>1.0</td>\n",
       "      <td>3.70</td>\n",
       "    </tr>\n",
       "    <tr>\n",
       "      <th>3</th>\n",
       "      <td>Illinois</td>\n",
       "      <td>204</td>\n",
       "      <td>9.0</td>\n",
       "      <td>4.41</td>\n",
       "    </tr>\n",
       "    <tr>\n",
       "      <th>4</th>\n",
       "      <td>Maryland</td>\n",
       "      <td>897</td>\n",
       "      <td>111.0</td>\n",
       "      <td>12.37</td>\n",
       "    </tr>\n",
       "    <tr>\n",
       "      <th>5</th>\n",
       "      <td>Minnesota</td>\n",
       "      <td>43</td>\n",
       "      <td>0.0</td>\n",
       "      <td>0.00</td>\n",
       "    </tr>\n",
       "    <tr>\n",
       "      <th>6</th>\n",
       "      <td>Ohio</td>\n",
       "      <td>15</td>\n",
       "      <td>0.0</td>\n",
       "      <td>0.00</td>\n",
       "    </tr>\n",
       "    <tr>\n",
       "      <th>7</th>\n",
       "      <td>Oregon</td>\n",
       "      <td>1031</td>\n",
       "      <td>121.0</td>\n",
       "      <td>11.74</td>\n",
       "    </tr>\n",
       "    <tr>\n",
       "      <th>8</th>\n",
       "      <td>Puerto Rico</td>\n",
       "      <td>220</td>\n",
       "      <td>11.0</td>\n",
       "      <td>5.00</td>\n",
       "    </tr>\n",
       "    <tr>\n",
       "      <th>9</th>\n",
       "      <td>Tennessee</td>\n",
       "      <td>42</td>\n",
       "      <td>1.0</td>\n",
       "      <td>2.38</td>\n",
       "    </tr>\n",
       "    <tr>\n",
       "      <th>10</th>\n",
       "      <td>Texas</td>\n",
       "      <td>7322</td>\n",
       "      <td>558.0</td>\n",
       "      <td>7.62</td>\n",
       "    </tr>\n",
       "    <tr>\n",
       "      <th>11</th>\n",
       "      <td>Utah</td>\n",
       "      <td>3100</td>\n",
       "      <td>219.0</td>\n",
       "      <td>7.06</td>\n",
       "    </tr>\n",
       "    <tr>\n",
       "      <th>12</th>\n",
       "      <td>Vermont</td>\n",
       "      <td>351</td>\n",
       "      <td>13.0</td>\n",
       "      <td>3.70</td>\n",
       "    </tr>\n",
       "    <tr>\n",
       "      <th>13</th>\n",
       "      <td>Virginia</td>\n",
       "      <td>9341</td>\n",
       "      <td>615.0</td>\n",
       "      <td>6.58</td>\n",
       "    </tr>\n",
       "    <tr>\n",
       "      <th>14</th>\n",
       "      <td>Washington</td>\n",
       "      <td>8967</td>\n",
       "      <td>955.0</td>\n",
       "      <td>10.65</td>\n",
       "    </tr>\n",
       "    <tr>\n",
       "      <th>15</th>\n",
       "      <td>West Virginia</td>\n",
       "      <td>1381</td>\n",
       "      <td>19.0</td>\n",
       "      <td>1.38</td>\n",
       "    </tr>\n",
       "    <tr>\n",
       "      <th>16</th>\n",
       "      <td>Wisconsin</td>\n",
       "      <td>4335</td>\n",
       "      <td>149.0</td>\n",
       "      <td>3.44</td>\n",
       "    </tr>\n",
       "    <tr>\n",
       "      <th>17</th>\n",
       "      <td>Wyoming</td>\n",
       "      <td>320</td>\n",
       "      <td>9.0</td>\n",
       "      <td>2.81</td>\n",
       "    </tr>\n",
       "  </tbody>\n",
       "</table>\n",
       "</div>"
      ],
      "text/plain": [
       "                   state  Total restaurants  Total restaurants with veg  \\\n",
       "0                Alabama               1114                        69.0   \n",
       "1   District of Columbia               1517                       183.0   \n",
       "2                  Idaho                 27                         1.0   \n",
       "3               Illinois                204                         9.0   \n",
       "4               Maryland                897                       111.0   \n",
       "5              Minnesota                 43                         0.0   \n",
       "6                   Ohio                 15                         0.0   \n",
       "7                 Oregon               1031                       121.0   \n",
       "8            Puerto Rico                220                        11.0   \n",
       "9              Tennessee                 42                         1.0   \n",
       "10                 Texas               7322                       558.0   \n",
       "11                  Utah               3100                       219.0   \n",
       "12               Vermont                351                        13.0   \n",
       "13              Virginia               9341                       615.0   \n",
       "14            Washington               8967                       955.0   \n",
       "15         West Virginia               1381                        19.0   \n",
       "16             Wisconsin               4335                       149.0   \n",
       "17               Wyoming                320                         9.0   \n",
       "\n",
       "    veg restaurants %  \n",
       "0                6.19  \n",
       "1               12.06  \n",
       "2                3.70  \n",
       "3                4.41  \n",
       "4               12.37  \n",
       "5                0.00  \n",
       "6                0.00  \n",
       "7               11.74  \n",
       "8                5.00  \n",
       "9                2.38  \n",
       "10               7.62  \n",
       "11               7.06  \n",
       "12               3.70  \n",
       "13               6.58  \n",
       "14              10.65  \n",
       "15               1.38  \n",
       "16               3.44  \n",
       "17               2.81  "
      ]
     },
     "execution_count": 22,
     "metadata": {},
     "output_type": "execute_result"
    }
   ],
   "source": [
    "sumresveg['veg restaurants %'] = sumresveg['Total restaurants with veg'] / sumresveg['Total restaurants'] * 100\n",
    "sumresveg = sumresveg.round(2)\n",
    "#sumresveg.reset_index(inplace=True)\n",
    "sumresveg"
   ]
  },
  {
   "cell_type": "markdown",
   "metadata": {},
   "source": [
    "Przygotowanie danych do wykresu"
   ]
  },
  {
   "cell_type": "code",
   "execution_count": 58,
   "metadata": {},
   "outputs": [],
   "source": [
    "vegtoplot = sumresveg[['state','Total restaurants', 'Total restaurants with veg']]"
   ]
  },
  {
   "cell_type": "markdown",
   "metadata": {},
   "source": [
    "Taki tam wykres, myślę jaki by tu lepiej pasował"
   ]
  },
  {
   "cell_type": "code",
   "execution_count": 59,
   "metadata": {},
   "outputs": [
    {
     "data": {
      "image/png": "[encoded data removed]",
      "text/plain": [
       "<Figure size 640x480 with 1 Axes>"
      ]
     },
     "metadata": {},
     "output_type": "display_data"
    }
   ],
   "source": [
    "vegtoplot.plot(x=\"state\", kind = 'bar', mark_right=True);"
   ]
  },
  {
   "cell_type": "code",
   "execution_count": 60,
   "metadata": {},
   "outputs": [
    {
     "data": {
      "image/png": "[encoded data removed]",
      "text/plain": [
       "<Figure size 640x480 with 1 Axes>"
      ]
     },
     "metadata": {},
     "output_type": "display_data"
    }
   ],
   "source": [
    "vegsum.plot(kind='bar', x='state', y='Total restaurants with veg')\n",
    "plt.show()"
   ]
  },
  {
   "cell_type": "code",
   "execution_count": 61,
   "metadata": {},
   "outputs": [
    {
     "data": {
      "text/html": [
       "<div>\n",
       "<style scoped>\n",
       "    .dataframe tbody tr th:only-of-type {\n",
       "        vertical-align: middle;\n",
       "    }\n",
       "\n",
       "    .dataframe tbody tr th {\n",
       "        vertical-align: top;\n",
       "    }\n",
       "\n",
       "    .dataframe thead th {\n",
       "        text-align: right;\n",
       "    }\n",
       "</style>\n",
       "<table border=\"1\" class=\"dataframe\">\n",
       "  <thead>\n",
       "    <tr style=\"text-align: right;\">\n",
       "      <th></th>\n",
       "      <th>price_range</th>\n",
       "      <th>total</th>\n",
       "      <th>sum</th>\n",
       "    </tr>\n",
       "  </thead>\n",
       "  <tbody>\n",
       "    <tr>\n",
       "      <th>0</th>\n",
       "      <td>$</td>\n",
       "      <td>1571</td>\n",
       "      <td>71.90</td>\n",
       "    </tr>\n",
       "    <tr>\n",
       "      <th>1</th>\n",
       "      <td>$$</td>\n",
       "      <td>604</td>\n",
       "      <td>27.64</td>\n",
       "    </tr>\n",
       "    <tr>\n",
       "      <th>2</th>\n",
       "      <td>$$$</td>\n",
       "      <td>9</td>\n",
       "      <td>0.41</td>\n",
       "    </tr>\n",
       "    <tr>\n",
       "      <th>3</th>\n",
       "      <td>$$$$</td>\n",
       "      <td>1</td>\n",
       "      <td>0.05</td>\n",
       "    </tr>\n",
       "  </tbody>\n",
       "</table>\n",
       "</div>"
      ],
      "text/plain": [
       "  price_range  total    sum\n",
       "0           $   1571  71.90\n",
       "1          $$    604  27.64\n",
       "2         $$$      9   0.41\n",
       "3        $$$$      1   0.05"
      ]
     },
     "execution_count": 61,
     "metadata": {},
     "output_type": "execute_result"
    }
   ],
   "source": [
    "vegpr = vege.value_counts('price_range').rename_axis('price_range').to_frame('total')\n",
    "vegpr = vegpr.reset_index()\n",
    "vegpr['sum'] = vegpr['total'].sum()\n",
    "vegpr['sum'] = vegpr['total'] / vegpr['sum']*100\n",
    "vegpr = vegpr.round(2)\n",
    "vegpr"
   ]
  },
  {
   "cell_type": "code",
   "execution_count": 62,
   "metadata": {},
   "outputs": [
    {
     "data": {
      "image/png": "[encoded data removed]",
      "text/plain": [
       "<Figure size 640x480 with 1 Axes>"
      ]
     },
     "metadata": {},
     "output_type": "display_data"
    }
   ],
   "source": [
    "label = ['Cheap', 'Moderate', 'Expensive', '']\n",
    "plt.pie(vegpr['sum'], labels=label)\n",
    "plt.show()"
   ]
  },
  {
   "cell_type": "markdown",
   "metadata": {},
   "source": [
    "Co nam dają powyzsze informacje? Jeśli chcemy otworzyć restaurację zrównowazoną ze zdrowymi daniami, to warto przyjrzeć się potencjalnie stanom, w których jest większy procent restauracji wegetariańskich i wegańskich.  \n",
    "\n",
    "Przyczyna jest prosta: restauracja zdrowa powinna mieć dania kuchni roślinnej w swoim menu, dlatego siłą rzeczy powinna znajdować się w tej kategorii.\n",
    "Stany, które przy stosunkowo duzej ilości danych (powyzej 1000 rekordów), mają powyzej 10% restauracji z opcjami wege, to: District of Columbia (Washington DC, 12,06%), Oregon (11,74%), Washington (10,65%).  \n",
    "\n",
    "Jeśli chodzi o ceny w tych restauracjach, to jest znaczna przewaga restauracji tanich - 71,90% przy 27,64% restauracji o umiarkowanych cenach.  \n",
    "\n",
    "Porównując z wynikami dla całości -> dla całości mamy 72,62% restauracji tanich przy 26,89% umiarkowanych (stosunek drogich restauracji do pozostałych jest niemal taki samy). Róznica jest mała, ale mozna stwierdzić, ze przy restauracjach wege jest odrobinę większy stosunek restauracji umiarkowanych do całości."
   ]
  },
  {
   "cell_type": "code",
   "execution_count": null,
   "metadata": {},
   "outputs": [],
   "source": [
    "Informacje odnoście ocen restauracji Vege"
   ]
  },
  {
   "cell_type": "code",
   "execution_count": 26,
   "metadata": {},
   "outputs": [
    {
     "name": "stdout",
     "output_type": "stream",
     "text": [
      "<class 'pandas.core.frame.DataFrame'>\n",
      "Int64Index: 3043 entries, 7 to 40225\n",
      "Data columns (total 12 columns):\n",
      " #   Column        Non-Null Count  Dtype  \n",
      "---  ------        --------------  -----  \n",
      " 0   id            3043 non-null   float64\n",
      " 1   position      3043 non-null   float64\n",
      " 2   name          3043 non-null   object \n",
      " 3   score         1789 non-null   float64\n",
      " 4   ratings       1789 non-null   float64\n",
      " 5   category      3043 non-null   object \n",
      " 6   price_range   2185 non-null   object \n",
      " 7   full_address  3026 non-null   object \n",
      " 8   zip_code      3026 non-null   object \n",
      " 9   lat           3043 non-null   float64\n",
      " 10  lng           3043 non-null   float64\n",
      " 11  state         3043 non-null   object \n",
      "dtypes: float64(6), object(6)\n",
      "memory usage: 309.1+ KB\n"
     ]
    }
   ],
   "source": [
    "vege.info()"
   ]
  },
  {
   "cell_type": "code",
   "execution_count": 23,
   "metadata": {},
   "outputs": [
    {
     "data": {
      "text/plain": [
       "score\n",
       "2.3      1\n",
       "2.7      3\n",
       "2.8      1\n",
       "2.9      2\n",
       "3.1      1\n",
       "3.3      2\n",
       "3.4      7\n",
       "3.5      7\n",
       "3.6      6\n",
       "3.7      8\n",
       "3.8     10\n",
       "3.9     17\n",
       "4.0     17\n",
       "4.1     27\n",
       "4.2     58\n",
       "4.3     62\n",
       "4.4    102\n",
       "4.5    191\n",
       "4.6    271\n",
       "4.7    368\n",
       "4.8    391\n",
       "4.9    200\n",
       "5.0     37\n",
       "Name: id, dtype: int64"
      ]
     },
     "execution_count": 23,
     "metadata": {},
     "output_type": "execute_result"
    }
   ],
   "source": [
    "score=vege.groupby('score')['id'].count()# informacja o tym ile reatauracji ma ocene od 2.3 do 5.0\n",
    "score"
   ]
  },
  {
   "cell_type": "code",
   "execution_count": 28,
   "metadata": {},
   "outputs": [
    {
     "data": {
      "text/plain": [
       "1789"
      ]
     },
     "execution_count": 28,
     "metadata": {},
     "output_type": "execute_result"
    }
   ],
   "source": [
    "scoresum=vege.groupby('score')['id'].count().sum()# informacja o tym ile reatauracji ma ocene od 1.3 do 5.0\n",
    "scoresum"
   ]
  },
  {
   "cell_type": "code",
   "execution_count": null,
   "metadata": {},
   "outputs": [],
   "source": [
    "Wnioski: restauracje vege są relatywnie wysoko oceniane. \n",
    "Na 1789 az 1724 (96 procent) ma oceny wyższe równe 4.0, a 1458 (81procent) ocene wyższą równą 4.5.\n",
    "    "
   ]
  },
  {
   "cell_type": "code",
   "execution_count": 33,
   "metadata": {},
   "outputs": [
    {
     "data": {
      "text/plain": [
       "ratings\n",
       "10.0     34\n",
       "11.0     31\n",
       "12.0     29\n",
       "13.0     39\n",
       "14.0     27\n",
       "         ..\n",
       "433.0     1\n",
       "442.0     1\n",
       "445.0     1\n",
       "496.0     1\n",
       "500.0     6\n",
       "Name: id, Length: 244, dtype: int64"
      ]
     },
     "execution_count": 33,
     "metadata": {},
     "output_type": "execute_result"
    }
   ],
   "source": [
    "ratings=vege.groupby('ratings')['id'].count()# informacja o tym ile ocen mają poszczególne restauracje \n",
    "ratings"
   ]
  },
  {
   "cell_type": "code",
   "execution_count": 44,
   "metadata": {},
   "outputs": [
    {
     "data": {
      "text/plain": [
       "ratings\n",
       "294.0    1\n",
       "302.0    1\n",
       "303.0    1\n",
       "304.0    1\n",
       "314.0    1\n",
       "319.0    1\n",
       "325.0    2\n",
       "334.0    1\n",
       "345.0    1\n",
       "354.0    1\n",
       "356.0    1\n",
       "357.0    1\n",
       "361.0    1\n",
       "365.0    1\n",
       "367.0    1\n",
       "379.0    1\n",
       "392.0    1\n",
       "408.0    2\n",
       "425.0    1\n",
       "431.0    1\n",
       "433.0    1\n",
       "442.0    1\n",
       "445.0    1\n",
       "496.0    1\n",
       "500.0    6\n",
       "Name: id, dtype: int64"
      ]
     },
     "execution_count": 44,
     "metadata": {},
     "output_type": "execute_result"
    }
   ],
   "source": [
    "ratings_lastten=vege.groupby('ratings')['id'].count().tail(25)# informacja o tym ile ocen mają ostatnie 25 najczęściej oceniane restauracje \n",
    "ratings_lastten"
   ]
  },
  {
   "cell_type": "code",
   "execution_count": 34,
   "metadata": {},
   "outputs": [
    {
     "data": {
      "text/plain": [
       "1789"
      ]
     },
     "execution_count": 34,
     "metadata": {},
     "output_type": "execute_result"
    }
   ],
   "source": [
    "ratingssum=vege.groupby('ratings')['id'].count().sum()# informacja o tym ile ocen mają poszczególne restauracje. Sprawdzenie sumy\n",
    "ratingssum"
   ]
  },
  {
   "cell_type": "code",
   "execution_count": null,
   "metadata": {},
   "outputs": [],
   "source": [
    "Wnioski 6 restauracji otrzymało po 500 ocen, a 25 resturacji między 302 a 496.\n",
    "Ogólnie można powiedzieć że wszystkie vege restauracje są uczęszczane bo są oceniane :D\n",
    "Najmniej bo 10 ocen ma 34 restauracje."
   ]
  },
  {
   "cell_type": "code",
   "execution_count": 54,
   "metadata": {},
   "outputs": [
    {
     "data": {
      "image/png": "[encoded data removed]",
      "text/plain": [
       "<Figure size 1000x600 with 1 Axes>"
      ]
     },
     "metadata": {},
     "output_type": "display_data"
    }
   ],
   "source": [
    "ratings_lastten=vege.groupby('ratings')['id'].count().tail(25).sort_values(ascending=False)\\ #nic nie wniosi ten wykres\n",
    ".plot(kind='bar', figsize=(10,6), ylabel=\"Score of vege restaurants\", xlabel=\"score\");"
   ]
  },
  {
   "cell_type": "code",
   "execution_count": 48,
   "metadata": {},
   "outputs": [
    {
     "data": {
      "text/plain": [
       "ratings  score\n",
       "10.0     2.7      1\n",
       "         2.8      1\n",
       "         3.4      1\n",
       "         3.6      1\n",
       "         3.9      1\n",
       "                 ..\n",
       "496.0    4.7      1\n",
       "500.0    4.5      1\n",
       "         4.7      2\n",
       "         4.8      1\n",
       "         4.9      2\n",
       "Name: id, Length: 929, dtype: int64"
      ]
     },
     "execution_count": 48,
     "metadata": {},
     "output_type": "execute_result"
    }
   ],
   "source": [
    "ratings_score_vege =vege.groupby(['ratings', 'score'])['id'].count() #nie wiem czemu po połączeniu nie pokazuje wszytskiego. \n",
    "                                                #Chiałam uzyskac informację otym jak ilość ocen przekłada sie na jakość oceny\n",
    "ratings_score_vege"
   ]
  },
  {
   "cell_type": "code",
   "execution_count": 49,
   "metadata": {},
   "outputs": [],
   "source": [
    "vege_copy = vege[['name', 'category', 'state', 'score', 'ratings']].copy() \n",
    "#kopia tabeli vege po to żeby pokazać jakie scory są w podziale na stany z uwzgęłnieniem nazwy, \n",
    "#kategorii vege scoringu i ratingu"
   ]
  },
  {
   "cell_type": "code",
   "execution_count": 50,
   "metadata": {},
   "outputs": [
    {
     "data": {
      "text/html": [
       "<div>\n",
       "<style scoped>\n",
       "    .dataframe tbody tr th:only-of-type {\n",
       "        vertical-align: middle;\n",
       "    }\n",
       "\n",
       "    .dataframe tbody tr th {\n",
       "        vertical-align: top;\n",
       "    }\n",
       "\n",
       "    .dataframe thead th {\n",
       "        text-align: right;\n",
       "    }\n",
       "</style>\n",
       "<table border=\"1\" class=\"dataframe\">\n",
       "  <thead>\n",
       "    <tr style=\"text-align: right;\">\n",
       "      <th></th>\n",
       "      <th>name</th>\n",
       "      <th>category</th>\n",
       "      <th>state</th>\n",
       "      <th>score</th>\n",
       "      <th>ratings</th>\n",
       "    </tr>\n",
       "  </thead>\n",
       "  <tbody>\n",
       "    <tr>\n",
       "      <th>7</th>\n",
       "      <td>Little India</td>\n",
       "      <td>Vegetarian, Asian, Asian Fusion, Chinese, Indi...</td>\n",
       "      <td>Alabama</td>\n",
       "      <td>NaN</td>\n",
       "      <td>NaN</td>\n",
       "    </tr>\n",
       "    <tr>\n",
       "      <th>9</th>\n",
       "      <td>Cajun Bistro Express</td>\n",
       "      <td>Desserts, Vegetarian, Coffee and Tea</td>\n",
       "      <td>Alabama</td>\n",
       "      <td>NaN</td>\n",
       "      <td>NaN</td>\n",
       "    </tr>\n",
       "    <tr>\n",
       "      <th>14</th>\n",
       "      <td>The Imperial Indian</td>\n",
       "      <td>Indian, Vegetarian, Pakistani, Chicken, Indian...</td>\n",
       "      <td>Alabama</td>\n",
       "      <td>NaN</td>\n",
       "      <td>NaN</td>\n",
       "    </tr>\n",
       "    <tr>\n",
       "      <th>18</th>\n",
       "      <td>Falafel Cafe</td>\n",
       "      <td>Middle Eastern, Mediterranean, Vegetarian, Gre...</td>\n",
       "      <td>Alabama</td>\n",
       "      <td>4.9</td>\n",
       "      <td>48.0</td>\n",
       "    </tr>\n",
       "    <tr>\n",
       "      <th>37</th>\n",
       "      <td>CHOP N FRESH</td>\n",
       "      <td>Salads, Vegetarian, Bowls</td>\n",
       "      <td>Alabama</td>\n",
       "      <td>4.8</td>\n",
       "      <td>39.0</td>\n",
       "    </tr>\n",
       "    <tr>\n",
       "      <th>...</th>\n",
       "      <td>...</td>\n",
       "      <td>...</td>\n",
       "      <td>...</td>\n",
       "      <td>...</td>\n",
       "      <td>...</td>\n",
       "    </tr>\n",
       "    <tr>\n",
       "      <th>40217</th>\n",
       "      <td>Anthem</td>\n",
       "      <td>American, Salads, Vegetarian, Healthy, Vegan, ...</td>\n",
       "      <td>Texas</td>\n",
       "      <td>4.6</td>\n",
       "      <td>43.0</td>\n",
       "    </tr>\n",
       "    <tr>\n",
       "      <th>40219</th>\n",
       "      <td>Le Bleu (Research Blvd)</td>\n",
       "      <td>Vietnamese, Noodles, Healthy, Family Friendly,...</td>\n",
       "      <td>Texas</td>\n",
       "      <td>4.9</td>\n",
       "      <td>175.0</td>\n",
       "    </tr>\n",
       "    <tr>\n",
       "      <th>40221</th>\n",
       "      <td>Clay Pit (Guadalupe St)</td>\n",
       "      <td>Comfort Food, Indian, Family Meals, Vegan, Veg...</td>\n",
       "      <td>Texas</td>\n",
       "      <td>4.7</td>\n",
       "      <td>408.0</td>\n",
       "    </tr>\n",
       "    <tr>\n",
       "      <th>40223</th>\n",
       "      <td>Wholly Cow Burgers  (S Lamar)</td>\n",
       "      <td>American, Burgers, Breakfast and Brunch, Aller...</td>\n",
       "      <td>Texas</td>\n",
       "      <td>4.6</td>\n",
       "      <td>245.0</td>\n",
       "    </tr>\n",
       "    <tr>\n",
       "      <th>40225</th>\n",
       "      <td>Austin's Habibi (5th St)</td>\n",
       "      <td>Mediterranean, Gluten Free Friendly, Allergy F...</td>\n",
       "      <td>Texas</td>\n",
       "      <td>4.7</td>\n",
       "      <td>208.0</td>\n",
       "    </tr>\n",
       "  </tbody>\n",
       "</table>\n",
       "<p>3043 rows × 5 columns</p>\n",
       "</div>"
      ],
      "text/plain": [
       "                                name  \\\n",
       "7                       Little India   \n",
       "9               Cajun Bistro Express   \n",
       "14               The Imperial Indian   \n",
       "18                      Falafel Cafe   \n",
       "37                      CHOP N FRESH   \n",
       "...                              ...   \n",
       "40217                         Anthem   \n",
       "40219        Le Bleu (Research Blvd)   \n",
       "40221        Clay Pit (Guadalupe St)   \n",
       "40223  Wholly Cow Burgers  (S Lamar)   \n",
       "40225       Austin's Habibi (5th St)   \n",
       "\n",
       "                                                category    state  score  \\\n",
       "7      Vegetarian, Asian, Asian Fusion, Chinese, Indi...  Alabama    NaN   \n",
       "9                   Desserts, Vegetarian, Coffee and Tea  Alabama    NaN   \n",
       "14     Indian, Vegetarian, Pakistani, Chicken, Indian...  Alabama    NaN   \n",
       "18     Middle Eastern, Mediterranean, Vegetarian, Gre...  Alabama    4.9   \n",
       "37                             Salads, Vegetarian, Bowls  Alabama    4.8   \n",
       "...                                                  ...      ...    ...   \n",
       "40217  American, Salads, Vegetarian, Healthy, Vegan, ...    Texas    4.6   \n",
       "40219  Vietnamese, Noodles, Healthy, Family Friendly,...    Texas    4.9   \n",
       "40221  Comfort Food, Indian, Family Meals, Vegan, Veg...    Texas    4.7   \n",
       "40223  American, Burgers, Breakfast and Brunch, Aller...    Texas    4.6   \n",
       "40225  Mediterranean, Gluten Free Friendly, Allergy F...    Texas    4.7   \n",
       "\n",
       "       ratings  \n",
       "7          NaN  \n",
       "9          NaN  \n",
       "14         NaN  \n",
       "18        48.0  \n",
       "37        39.0  \n",
       "...        ...  \n",
       "40217     43.0  \n",
       "40219    175.0  \n",
       "40221    408.0  \n",
       "40223    245.0  \n",
       "40225    208.0  \n",
       "\n",
       "[3043 rows x 5 columns]"
      ]
     },
     "execution_count": 50,
     "metadata": {},
     "output_type": "execute_result"
    }
   ],
   "source": [
    "vege_copy"
   ]
  },
  {
   "cell_type": "code",
   "execution_count": null,
   "metadata": {},
   "outputs": [],
   "source": []
  }
 ],
 "metadata": {
  "kernelspec": {
   "display_name": "Python 3 (ipykernel)",
   "language": "python",
   "name": "python3"
  },
  "language_info": {
   "codemirror_mode": {
    "name": "ipython",
    "version": 3
   },
   "file_extension": ".py",
   "mimetype": "text/x-python",
   "name": "python",
   "nbconvert_exporter": "python",
   "pygments_lexer": "ipython3",
   "version": "3.9.13"
  }
 },
 "nbformat": 4,
 "nbformat_minor": 2
}
